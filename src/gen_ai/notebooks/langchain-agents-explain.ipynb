{
 "cells": [
  {
   "cell_type": "code",
   "execution_count": 1,
   "id": "initial_id",
   "metadata": {
    "collapsed": true,
    "ExecuteTime": {
     "end_time": "2024-01-18T10:15:13.376201Z",
     "start_time": "2024-01-18T10:15:13.049993Z"
    }
   },
   "outputs": [
    {
     "ename": "ModuleNotFoundError",
     "evalue": "No module named 'shopify'",
     "output_type": "error",
     "traceback": [
      "\u001B[0;31m---------------------------------------------------------------------------\u001B[0m",
      "\u001B[0;31mModuleNotFoundError\u001B[0m                       Traceback (most recent call last)",
      "Cell \u001B[0;32mIn[1], line 3\u001B[0m\n\u001B[1;32m      1\u001B[0m \u001B[38;5;66;03m# load environement setting\u001B[39;00m\n\u001B[1;32m      2\u001B[0m \u001B[38;5;28;01mimport\u001B[39;00m \u001B[38;5;21;01mos\u001B[39;00m\n\u001B[0;32m----> 3\u001B[0m \u001B[38;5;28;01mimport\u001B[39;00m \u001B[38;5;21;01mshopify\u001B[39;00m\n\u001B[1;32m      4\u001B[0m \u001B[38;5;28;01mimport\u001B[39;00m \u001B[38;5;21;01mpandas\u001B[39;00m \u001B[38;5;28;01mas\u001B[39;00m \u001B[38;5;21;01mpd\u001B[39;00m\n\u001B[1;32m      5\u001B[0m \u001B[38;5;28;01mfrom\u001B[39;00m \u001B[38;5;21;01mdotenv\u001B[39;00m \u001B[38;5;28;01mimport\u001B[39;00m load_dotenv,find_dotenv\n",
      "\u001B[0;31mModuleNotFoundError\u001B[0m: No module named 'shopify'"
     ]
    }
   ],
   "source": [
    "# load environement setting\n",
    "import os\n",
    "import shopify\n",
    "import pandas as pd\n",
    "from dotenv import load_dotenv,find_dotenv\n",
    "\n",
    "load_dotenv(find_dotenv())"
   ]
  },
  {
   "cell_type": "code",
   "outputs": [],
   "source": [
    "# Function that extracts data from Shopify's REST API\n",
    "\n",
    "def get_data(object_name):\n",
    "    api_session = shopify.Session(os.getenv('MERCHANT'),'2023-04',os.getenv('SHOPIFY_TOKEN'))\n",
    "    shopify.ShopifyResource.activate_session(api_session)\n",
    "    all_data=[]\n",
    "    attribute=getattr(shopify,object_name)\n",
    "    data=attribute.find(since_id=0, limit=250)\n",
    "    for d in data:\n",
    "        all_data.append(d)\n",
    "    while data.has_next_page():\n",
    "        data=data.next_page()\n",
    "        for d in data:\n",
    "            all_data.append(d)\n",
    "    return all_data"
   ],
   "metadata": {
    "collapsed": false
   },
   "id": "b7ed59dc21e32f6d"
  },
  {
   "cell_type": "code",
   "outputs": [],
   "source": [
    "# Example: getting order data with the function\n",
    "order_data=get_data('Order')"
   ],
   "metadata": {
    "collapsed": false
   },
   "id": "502985d16e515c1d"
  },
  {
   "cell_type": "code",
   "outputs": [],
   "source": [
    "# Turn the get_data function into a new function that receives text and returns text and create a tool out of the new function\n",
    "\n",
    "from typing import Optional\n",
    "\n",
    "def get_shopify_insight(\n",
    "    shopify_object: Optional[str] = None\n",
    ") -> str:\n",
    "    \"\"\"Tool that counts the number of items for a given Shopify data object. Valid shopify_objects include \"Customer\", \"Order\", \"Product\" and \"Webhook\".\"\"\"\n",
    "    object_name=(shopify_object or \"Order\")\n",
    "    data= get_data(object_name)\n",
    "    return str(len(data))\n",
    "\n",
    "shopify_insights_tool = StructuredTool.from_function(get_shopify_insight)"
   ],
   "metadata": {
    "collapsed": false
   },
   "id": "db031b2b4203c14e"
  },
  {
   "cell_type": "code",
   "outputs": [],
   "source": [
    "# We can now call the tool and count items returned as a string\n",
    "\n",
    "shopify_insights_tool('Customer')"
   ],
   "metadata": {
    "collapsed": false
   },
   "id": "a04b4e05172c0477"
  },
  {
   "cell_type": "code",
   "outputs": [],
   "source": [
    "# Create the agent based on the tool and the chatmodel\n",
    "\n",
    "from langchain.agents import initialize_agent, AgentType\n",
    "tools = [shopify_insights_tool]\n",
    "agent_chain = initialize_agent(tools, \n",
    "                               chat, \n",
    "                               agent=AgentType.STRUCTURED_CHAT_ZERO_SHOT_REACT_DESCRIPTION, \n",
    "                               verbose=True)"
   ],
   "metadata": {
    "collapsed": false
   },
   "id": "e746e83a81569667"
  },
  {
   "cell_type": "code",
   "outputs": [],
   "source": [
    "# Run the agent\n",
    "\n",
    "agent_chain(\"Count the number of orders in the Shopify store\")"
   ],
   "metadata": {
    "collapsed": false
   },
   "id": "76c9a68249047435"
  }
 ],
 "metadata": {
  "kernelspec": {
   "display_name": "Python 3",
   "language": "python",
   "name": "python3"
  },
  "language_info": {
   "codemirror_mode": {
    "name": "ipython",
    "version": 2
   },
   "file_extension": ".py",
   "mimetype": "text/x-python",
   "name": "python",
   "nbconvert_exporter": "python",
   "pygments_lexer": "ipython2",
   "version": "2.7.6"
  }
 },
 "nbformat": 4,
 "nbformat_minor": 5
}
